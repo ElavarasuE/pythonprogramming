{
  "nbformat": 4,
  "nbformat_minor": 0,
  "metadata": {
    "colab": {
      "provenance": []
    },
    "kernelspec": {
      "name": "python3",
      "display_name": "Python 3"
    },
    "language_info": {
      "name": "python"
    }
  },
  "cells": [
    {
      "cell_type": "code",
      "execution_count": null,
      "metadata": {
        "id": "flndpGQQZrY9",
        "colab": {
          "base_uri": "https://localhost:8080/"
        },
        "outputId": "33973743-d99e-4cbe-e4cc-1746fffd9e73"
      },
      "outputs": [
        {
          "output_type": "stream",
          "name": "stdout",
          "text": [
            "3\n"
          ]
        },
        {
          "output_type": "execute_result",
          "data": {
            "text/plain": [
              "int"
            ]
          },
          "metadata": {},
          "execution_count": 76
        }
      ],
      "source": [
        "#integer \n",
        "dt_i=3\n",
        "print(dt_i)\n",
        "type(dt_i)\n"
      ]
    },
    {
      "cell_type": "code",
      "source": [
        "#String\n",
        "dt_txt=\"Python\"\n",
        "print(dt_txt)\n",
        "type(dt_txt)"
      ],
      "metadata": {
        "colab": {
          "base_uri": "https://localhost:8080/"
        },
        "id": "EEWgfiDVb1Mc",
        "outputId": "63455cf1-a857-4b15-aeaf-1c6999a96a6b"
      },
      "execution_count": null,
      "outputs": [
        {
          "output_type": "stream",
          "name": "stdout",
          "text": [
            "Python\n"
          ]
        },
        {
          "output_type": "execute_result",
          "data": {
            "text/plain": [
              "str"
            ]
          },
          "metadata": {},
          "execution_count": 3
        }
      ]
    },
    {
      "cell_type": "code",
      "source": [
        "#Float\n",
        "dt_dec=6.7\n",
        "print(dt_dec)\n",
        "type(dt_dec)"
      ],
      "metadata": {
        "colab": {
          "base_uri": "https://localhost:8080/"
        },
        "id": "Ht1EA99acckU",
        "outputId": "86dc62e0-87c4-430c-bd5a-2f6c78811fb2"
      },
      "execution_count": null,
      "outputs": [
        {
          "output_type": "stream",
          "name": "stdout",
          "text": [
            "6.7\n"
          ]
        },
        {
          "output_type": "execute_result",
          "data": {
            "text/plain": [
              "float"
            ]
          },
          "metadata": {},
          "execution_count": 4
        }
      ]
    },
    {
      "cell_type": "code",
      "source": [
        "#string\n",
        "dt_txt=\"it is very tough to learn\"\n",
        "print(type(dt_txt))\n",
        "x=dt_txt.upper()\n",
        "print(x)\n",
        "y=dt_txt.lower()\n",
        "print(y)\n",
        "dt_txt.find('tough')\n",
        "dt_txt.replace('tough','easy')\n"
      ],
      "metadata": {
        "id": "7eBTjxOAgmGJ",
        "outputId": "7d6f0232-a4c9-43df-a54d-8ae424cb455c",
        "colab": {
          "base_uri": "https://localhost:8080/",
          "height": 87
        }
      },
      "execution_count": null,
      "outputs": [
        {
          "output_type": "stream",
          "name": "stdout",
          "text": [
            "<class 'str'>\n",
            "IT IS VERY TOUGH TO LEARN\n",
            "it is very tough to learn\n"
          ]
        },
        {
          "output_type": "execute_result",
          "data": {
            "text/plain": [
              "'it is very easy to learn'"
            ],
            "application/vnd.google.colaboratory.intrinsic+json": {
              "type": "string"
            }
          },
          "metadata": {},
          "execution_count": 14
        }
      ]
    },
    {
      "cell_type": "code",
      "source": [
        "#Dictionary\n",
        "wa_corpa={'good morning':'gud mrng','what':'wht','where':'whr'}\n",
        "print(\"Type=\",type(wa_corpa))\n",
        "wa_corpa.keys()\n",
        "del(wa_corpa['good morning'])\n",
        "print(\"updated wa_corpa=\",wa_corpa)\n",
        "wa_corpa['Take care']='tc'\n",
        "print(\"wa_corpa=\",wa_corpa)\n",
        "wa_corpa"
      ],
      "metadata": {
        "id": "u8WeCQGQ2oJn",
        "outputId": "b8860d91-16fb-4ea8-a26c-e7b3b573e02e",
        "colab": {
          "base_uri": "https://localhost:8080/"
        }
      },
      "execution_count": null,
      "outputs": [
        {
          "output_type": "stream",
          "name": "stdout",
          "text": [
            "Type= <class 'dict'>\n",
            "updated wa_corpa= {'what': 'wht', 'where': 'whr'}\n",
            "wa_corpa= {'what': 'wht', 'where': 'whr', 'Take care': 'tc'}\n"
          ]
        },
        {
          "output_type": "execute_result",
          "data": {
            "text/plain": [
              "{'what': 'wht', 'where': 'whr', 'Take care': 'tc'}"
            ]
          },
          "metadata": {},
          "execution_count": 74
        }
      ]
    },
    {
      "cell_type": "code",
      "source": [],
      "metadata": {
        "id": "R6tQ7Ndabv6c"
      },
      "execution_count": null,
      "outputs": []
    },
    {
      "cell_type": "code",
      "source": [
        "#Type Casting\n",
        "Tamil=89\n",
        "English=92\n",
        "Maths=66\n",
        "Science=94\n",
        "Social_science=98\n",
        "tc_marks=Tamil+English+Maths+Science+Social_science\n",
        "tc_average=tc_marks/5\n",
        "print(\"Average=\",tc_average)\n",
        "print(\"Type=\",type(tc_average))\n",
        "x=int(tc_average)\n",
        "print(\"Average=\",x)\n",
        "print(\"Type=\",type(x))\n"
      ],
      "metadata": {
        "colab": {
          "base_uri": "https://localhost:8080/"
        },
        "id": "vMQ0Rp2pmlcX",
        "outputId": "bdbcd9a3-a9e7-4718-e61e-ac02268843cc"
      },
      "execution_count": null,
      "outputs": [
        {
          "output_type": "stream",
          "name": "stdout",
          "text": [
            "Average= 87.8\n",
            "Type= <class 'float'>\n",
            "Average= 87\n",
            "Type= <class 'int'>\n"
          ]
        }
      ]
    },
    {
      "cell_type": "code",
      "source": [],
      "metadata": {
        "id": "K6-rnBMVb1KO"
      },
      "execution_count": null,
      "outputs": []
    },
    {
      "cell_type": "code",
      "source": [
        "#List\n",
        "name=['vinoth','venkat','anu','kamal','nikitha']\n",
        "print(\"Name=\",name)\n",
        "nlen=len(name)\n",
        "print(\"Length=\",nlen)\n",
        "gender=['male','male','female','male','female']\n",
        "print(\"Gender=\",gender)\n",
        "glen=len(gender)\n",
        "print(\"Length=\",glen)\n",
        "age=[24,30,22,29,30]\n",
        "print(\"Age\",age)\n",
        "alen=len(age)\n",
        "print(\"Length=\",alen)\n",
        "reg_num=[22,34,21,3,7]\n",
        "print(\"Regester no=\",reg_num)\n",
        "rlen=len(reg_num)\n",
        "print(\"Length=\",rlen)\n",
        "nation=['true','false','true','true','false']\n",
        "print(\"Nationaliry=\",nation)\n",
        "nlen=len(nation)\n",
        "print(\"Length=\",nlen)\n",
        "name.append('arun')\n",
        "print(\"An Element Add to list=\",name)\n",
        "age.extend([22,43,57])\n",
        "print(\"multiple element Add to list=\",age)\n",
        "del(name[5])\n",
        "print(\"An Element Deleted from list=\",name)\n",
        "con=age+reg_num\n",
        "print(\"concatenate=\",con)\n",
        "a='vinoth'\n",
        "if a in name:\n",
        "  print(a,\"mentioned in the list\")\n",
        "else:\n",
        "  print(a,\"not mentioned in the list\")\n",
        "\n"
      ],
      "metadata": {
        "colab": {
          "base_uri": "https://localhost:8080/"
        },
        "id": "KlWeflrAljR1",
        "outputId": "516496b6-5073-474c-cc5e-382ed91c0ce4"
      },
      "execution_count": null,
      "outputs": [
        {
          "output_type": "stream",
          "name": "stdout",
          "text": [
            "Name= ['vinoth', 'venkat', 'anu', 'kamal', 'nikitha']\n",
            "Length= 5\n",
            "Gender= ['male', 'male', 'female', 'male', 'female']\n",
            "Length= 5\n",
            "Age [24, 30, 22, 29, 30]\n",
            "Length= 5\n",
            "Regester no= [22, 34, 21, 3, 7]\n",
            "Length= 5\n",
            "Nationaliry= ['true', 'false', 'true', 'true', 'false']\n",
            "Length= 5\n",
            "An Element Add to list= ['vinoth', 'venkat', 'anu', 'kamal', 'nikitha', 'arun']\n",
            "multiple element Add to list= [24, 30, 22, 29, 30, 22, 43, 57]\n",
            "An Element Deleted from list= ['vinoth', 'venkat', 'anu', 'kamal', 'nikitha']\n",
            "concatenate= [24, 30, 22, 29, 30, 22, 43, 57, 22, 34, 21, 3, 7]\n",
            "vinoth mentioned in the list\n"
          ]
        }
      ]
    },
    {
      "cell_type": "code",
      "source": [
        "#Tuples\n",
        "my_data=(53,\"Elaa\",\"Ragul\",8.7,9.2)\n",
        "print(\"my_data=\",my_data)\n",
        "print(\"First item=\",my_data[-5])\n",
        "print(\"First two elament=\",my_data[0:2])\n",
        "x=list(my_data)\n",
        "print(\"Tuple converted into list=\",x)\n",
        "print(type(x))\n",
        "print(\"my_data type=\",type(x))\n",
        "del(x[-1])\n",
        "print(\"Updated list=\",x)\n",
        "y=tuple(x)\n",
        "print(\"list converted into tuple=\",y)\n",
        "print(\"Type=\",type(y))"
      ],
      "metadata": {
        "id": "DUSLZSvIibjk",
        "colab": {
          "base_uri": "https://localhost:8080/"
        },
        "outputId": "885cb4a8-aefb-4b89-ad65-779de29a1d13"
      },
      "execution_count": null,
      "outputs": [
        {
          "output_type": "stream",
          "name": "stdout",
          "text": [
            "my_data= (53, 'Elaa', 'Ragul', 8.7, 9.2)\n",
            "First item= 53\n",
            "First two elament= (53, 'Elaa')\n",
            "Tuple converted into list= [53, 'Elaa', 'Ragul', 8.7, 9.2]\n",
            "<class 'list'>\n",
            "my_data type= <class 'list'>\n",
            "Updated list= [53, 'Elaa', 'Ragul', 8.7]\n",
            "list converted into tuple= (53, 'Elaa', 'Ragul', 8.7)\n",
            "Type= <class 'tuple'>\n"
          ]
        }
      ]
    },
    {
      "cell_type": "code",
      "source": [],
      "metadata": {
        "id": "OlgzobcJgeTx"
      },
      "execution_count": null,
      "outputs": []
    },
    {
      "cell_type": "code",
      "source": [
        "#Electricity bill\n",
        "\n",
        "type=int(input(\"\\n select the  palce 1 or 2:\\n\\n1.household\\n2.commercial\\n\"))\n",
        "if(type ==1):\n",
        "  def house():\n",
        "    print(\"EB Bill for your House:\")\n",
        "    \n",
        "    unit=int(input(\"Units:\"))\n",
        "    if(unit<=100):\n",
        "        ui=unit*0.50\n",
        "    elif unit>=101 and unit<=200:\n",
        "         ui=unit*0.75\n",
        "    elif unit<201 and unit<=300:\n",
        "         ui=unit*1.20\n",
        "    elif unit>300:\n",
        "         ui=unit*1.50 \n",
        "    print(\"You have to pay: Rs,\",ui)\n",
        "  house()  \n",
        "if(type ==2):\n",
        "     def com():\n",
        "      print(\"EB Bill for your Commercial palce:\")\n",
        "   \n",
        "      unit=int(input(\"units:\"))\n",
        "      if(unit<=100):\n",
        "        ui=unit*0.50\n",
        "      elif unit>=101 and unit<=200:\n",
        "        ui=unit*0.75\n",
        "      elif unit>=201 and unit<=300:\n",
        "        ui=unit*1.20\n",
        "      elif unit>300:\n",
        "        ui=unit*1.50\n",
        "      print(\"You have to pay: Rs,\",ui*2)\n",
        "     com()"
      ],
      "metadata": {
        "colab": {
          "base_uri": "https://localhost:8080/"
        },
        "id": "Nc3vZ1jnnIDQ",
        "outputId": "8879d378-2cfa-4422-e4fb-a2111c999d75"
      },
      "execution_count": null,
      "outputs": [
        {
          "output_type": "stream",
          "name": "stdout",
          "text": [
            "\n",
            " select the  palce 1 or 2:\n",
            "\n",
            "1.household\n",
            "2.commercial\n",
            "2\n",
            "EB Bill for your Commercial palce:\n",
            "units:1500\n",
            "You have to pay: Rs, 4500.0\n"
          ]
        }
      ]
    },
    {
      "cell_type": "code",
      "source": [],
      "metadata": {
        "id": "E0Ulq8JH5x57"
      },
      "execution_count": null,
      "outputs": []
    },
    {
      "cell_type": "code",
      "source": [],
      "metadata": {
        "id": "C46KMnOck4Pd"
      },
      "execution_count": null,
      "outputs": []
    },
    {
      "cell_type": "code",
      "source": [
        "#(1)Quiz\n",
        "class Question:\n",
        "     def __init__(self, prompt, answer):\n",
        "          self.prompt = prompt\n",
        "          self.answer = answer\n",
        "question_prompts = [\n",
        "    \"which os is convenient for hacking? \\n a)DEFT Linux\\n b)Kali Linux \\n\\n\",\n",
        "    \"who is authorized Hacker? \\n a)white Hat\\n b)Grey Hat\\n\\n\",\n",
        "    \"Which Hacker comes Under cyber criminal? \\n a)Black Hat\\n b)grey Hat \\n\\n\",\n",
        "    \"Metasploit is a open source Framework? \\n a)True\\n b)False \\n\\n\",\n",
        "    \"How many Maintypes of Hackers? \\n a)Two\\n b)Three \\n\\n\",\n",
        "    ]\n",
        "questions = [\n",
        "     Question(question_prompts[0], \"b\"),\n",
        "     Question(question_prompts[1], \"a\"),\n",
        "     Question(question_prompts[2], \"a\"),\n",
        "     Question(question_prompts[3], \"a\"),\n",
        "     Question(question_prompts[4], \"b\"),\n",
        "]\n",
        "def run_quiz(questions):\n",
        "     score = 0\n",
        "     for question in questions:\n",
        "          answer = input(question.prompt)\n",
        "          if answer == question.answer:\n",
        "               score += 2\n",
        "     print(\"score:\", score)\n",
        "run_quiz(questions)\n"
      ],
      "metadata": {
        "colab": {
          "base_uri": "https://localhost:8080/"
        },
        "id": "Nqe2URB0wTcJ",
        "outputId": "ca410864-2e03-4ecc-dcb3-889b32a3c1bb"
      },
      "execution_count": null,
      "outputs": [
        {
          "output_type": "stream",
          "name": "stdout",
          "text": [
            "which os is convenient for hacking? \n",
            " a)DEFT Linux\n",
            " b)Kali Linux \n",
            "\n",
            "b\n",
            "who is authorized Hacker? \n",
            " a)white Hat\n",
            " b)Grey Hat\n",
            "\n",
            "a\n",
            "Which Hacker comes Under cyber criminal? \n",
            " a)Black Hat\n",
            " b)grey Hat \n",
            "\n",
            "a\n",
            "Metasploit is a open source Framework? \n",
            " a)True\n",
            " b)False \n",
            "\n",
            "a\n",
            "How many Maintypes of Hackers? \n",
            " a)Two\n",
            " b)Three \n",
            "\n",
            "b\n",
            "score: 10\n"
          ]
        }
      ]
    },
    {
      "cell_type": "code",
      "source": [],
      "metadata": {
        "id": "Re-vwSDD0F3u"
      },
      "execution_count": null,
      "outputs": []
    },
    {
      "cell_type": "code",
      "source": [
        "\n"
      ],
      "metadata": {
        "id": "tsnnxFl884Wk"
      },
      "execution_count": null,
      "outputs": []
    },
    {
      "cell_type": "code",
      "source": [],
      "metadata": {
        "id": "NKbPLjSA5X7_"
      },
      "execution_count": null,
      "outputs": []
    },
    {
      "cell_type": "code",
      "source": [
        "#2 Calculate the Gross Salary and Net Salary \n",
        "sal=float(input(\"Enter the basic salary:\"))\n",
        "lo=int(input(\"EMI PENDING \\n1.yes\\t2.no\"))\n",
        "if(lo == 1):\n",
        "   def yes():\n",
        "     da=sal*20/100;\n",
        "     hra=sal*10/100;\n",
        "     pf=sal*12/100;\n",
        "     ta=sal*7.50/100;  \n",
        "     emi=sal*2/100;\n",
        "     net=da+hra-pf+ta-emi;\n",
        "     gross=da+hra+ta;\n",
        "     print(\"\\nBasics:\\t\\t\\t=\\t\\t\",sal)\n",
        "     print(\"\\nDA:\\t\\t\\t=\\t\\t\",da)\n",
        "     print(\"\\nHRA:\\t\\t\\t=\\t\\t\",hra)\n",
        "     print(\"\\nPF:\\t\\t\\t=\\t\\t\",pf)\n",
        "     print(\"\\nTA:\\t\\t\\t=\\t\\t\",ta)\n",
        "     print(\"\\nEMI:\\t\\t\\t=\\t\\t\",emi)\n",
        "     print(\"\\n\\t\\t\\t\\t-------------------------------------------\")\n",
        "     print(\"\\nNET SALARY:\\t\\t=\\t\\t\",net)\n",
        "     print(\"\\n\\t\\t\\t\\t-------------------------------------------\")\n",
        "     print(\"\\nGROSS SALARY:\\t\\t=\\t\\t\",gross)\n",
        "     print(\"\\nDectected amount for EMI:\\t\\t\",emi )\n",
        "   yes()\n",
        "if(lo== 2):\n",
        "     def no():\n",
        "        da=sal*20/100;\n",
        "        hra=sal*10/100;\n",
        "        pf=sal*12/100;\n",
        "        ta=sal*7.50/100;  \n",
        "        emi=0;\n",
        "        net=da+hra-pf+ta-emi;\n",
        "        gross=da+hra+ta;\n",
        "        print(\"\\nBasics:\\t\\t\\t=\\t\\t\",sal)\n",
        "        print(\"\\nDA:\\t\\t\\t=\\t\\t\",da)\n",
        "        print(\"\\nHRA:\\t\\t\\t=\\t\\t\",hra)\n",
        "        print(\"\\nPF:\\t\\t\\t=\\t\\t\",pf)\n",
        "        print(\"\\nTA:\\t\\t\\t=\\t\\t\",ta)\n",
        "        print(\"\\nEMI:\\t\\t\\t=\\t\\t\",emi)\n",
        "        print(\"\\n\\t\\t\\t\\t-------------------------------------------\")\n",
        "        print(\"\\nNET SALARY:\\t\\t=\\t\\t\",net)\n",
        "        print(\"\\n\\t\\t\\t\\t-------------------------------------------\")\n",
        "        print(\"\\nGROSS SALARY:\\t\\t=\\t\\t\",gross)\n",
        "        print(\"\\nDectected amount for EMI:\\t\\t\",emi )   \n",
        "     no()  \n"
      ],
      "metadata": {
        "colab": {
          "base_uri": "https://localhost:8080/"
        },
        "id": "o6iV9Th_htQy",
        "outputId": "916d408e-d85a-4c2c-ee78-0bb6549617ac"
      },
      "execution_count": null,
      "outputs": [
        {
          "output_type": "stream",
          "name": "stdout",
          "text": [
            "Enter the basic salary:67000\n",
            "EMI PENDING \n",
            "1.yes\t2.no1\n",
            "\n",
            "Basics:\t\t\t=\t\t 67000.0\n",
            "\n",
            "DA:\t\t\t=\t\t 13400.0\n",
            "\n",
            "HRA:\t\t\t=\t\t 6700.0\n",
            "\n",
            "PF:\t\t\t=\t\t 8040.0\n",
            "\n",
            "TA:\t\t\t=\t\t 5025.0\n",
            "\n",
            "EMI:\t\t\t=\t\t 1340.0\n",
            "\n",
            "\t\t\t\t-------------------------------------------\n",
            "\n",
            "NET SALARY:\t\t=\t\t 15745.0\n",
            "\n",
            "\t\t\t\t-------------------------------------------\n",
            "\n",
            "GROSS SALARY:\t\t=\t\t 25125.0\n",
            "\n",
            "Dectected amount for EMI:\t\t 1340.0\n"
          ]
        }
      ]
    },
    {
      "cell_type": "code",
      "source": [
        "#4 Data manuplation\n",
        "#1 Create a dataframe\n",
        "import pandas as pd\n",
        "df = pd.DataFrame({\n",
        "'Roll No':[1,2,3,4,5],\n",
        "'Name':['Yogeshwaran','Thiru','Santhosh','Neveas','Elavarasu'],\n",
        "'Fathers_Name':['Yogesh','Arulnathan','Sandy','Pondi','Arasu'],\n",
        "'DOB':[2001,1974,1999,1974,1980],\n",
        "'Status':['Son','Son','Son','Son','Son']\n",
        "})\n",
        "df['age']=2022-df['DOB']\n",
        "df['Father_age']=2*df['age']\n",
        "df['Father_status']=df['Father_age'].apply(lambda x: 'retired' if x>58 else 'not retired')\n",
        "df['gender']=df['Status'].apply(lambda x: 'M' if x =='Son' else 'F')\n",
        "display(df)\n"
      ],
      "metadata": {
        "id": "6FNxJjrv2W-i",
        "colab": {
          "base_uri": "https://localhost:8080/",
          "height": 206
        },
        "outputId": "a98b988b-7832-4ac2-cfad-57a8d3b04ce0"
      },
      "execution_count": null,
      "outputs": [
        {
          "output_type": "display_data",
          "data": {
            "text/plain": [
              "   Roll No         Name Fathers_Name   DOB Status  age  Father_age  \\\n",
              "0        1  Yogeshwaran       Yogesh  2001    Son   21          42   \n",
              "1        2        Thiru   Arulnathan  1974    Son   48          96   \n",
              "2        3     Santhosh        Sandy  1999    Son   23          46   \n",
              "3        4       Neveas        Pondi  1974    Son   48          96   \n",
              "4        5    Elavarasu        Arasu  1980    Son   42          84   \n",
              "\n",
              "  Father_status gender  \n",
              "0   not retired      M  \n",
              "1       retired      M  \n",
              "2   not retired      M  \n",
              "3       retired      M  \n",
              "4       retired      M  "
            ],
            "text/html": [
              "\n",
              "  <div id=\"df-cc9d7f52-e025-4418-9d89-5b67c53a7766\">\n",
              "    <div class=\"colab-df-container\">\n",
              "      <div>\n",
              "<style scoped>\n",
              "    .dataframe tbody tr th:only-of-type {\n",
              "        vertical-align: middle;\n",
              "    }\n",
              "\n",
              "    .dataframe tbody tr th {\n",
              "        vertical-align: top;\n",
              "    }\n",
              "\n",
              "    .dataframe thead th {\n",
              "        text-align: right;\n",
              "    }\n",
              "</style>\n",
              "<table border=\"1\" class=\"dataframe\">\n",
              "  <thead>\n",
              "    <tr style=\"text-align: right;\">\n",
              "      <th></th>\n",
              "      <th>Roll No</th>\n",
              "      <th>Name</th>\n",
              "      <th>Fathers_Name</th>\n",
              "      <th>DOB</th>\n",
              "      <th>Status</th>\n",
              "      <th>age</th>\n",
              "      <th>Father_age</th>\n",
              "      <th>Father_status</th>\n",
              "      <th>gender</th>\n",
              "    </tr>\n",
              "  </thead>\n",
              "  <tbody>\n",
              "    <tr>\n",
              "      <th>0</th>\n",
              "      <td>1</td>\n",
              "      <td>Yogeshwaran</td>\n",
              "      <td>Yogesh</td>\n",
              "      <td>2001</td>\n",
              "      <td>Son</td>\n",
              "      <td>21</td>\n",
              "      <td>42</td>\n",
              "      <td>not retired</td>\n",
              "      <td>M</td>\n",
              "    </tr>\n",
              "    <tr>\n",
              "      <th>1</th>\n",
              "      <td>2</td>\n",
              "      <td>Thiru</td>\n",
              "      <td>Arulnathan</td>\n",
              "      <td>1974</td>\n",
              "      <td>Son</td>\n",
              "      <td>48</td>\n",
              "      <td>96</td>\n",
              "      <td>retired</td>\n",
              "      <td>M</td>\n",
              "    </tr>\n",
              "    <tr>\n",
              "      <th>2</th>\n",
              "      <td>3</td>\n",
              "      <td>Santhosh</td>\n",
              "      <td>Sandy</td>\n",
              "      <td>1999</td>\n",
              "      <td>Son</td>\n",
              "      <td>23</td>\n",
              "      <td>46</td>\n",
              "      <td>not retired</td>\n",
              "      <td>M</td>\n",
              "    </tr>\n",
              "    <tr>\n",
              "      <th>3</th>\n",
              "      <td>4</td>\n",
              "      <td>Neveas</td>\n",
              "      <td>Pondi</td>\n",
              "      <td>1974</td>\n",
              "      <td>Son</td>\n",
              "      <td>48</td>\n",
              "      <td>96</td>\n",
              "      <td>retired</td>\n",
              "      <td>M</td>\n",
              "    </tr>\n",
              "    <tr>\n",
              "      <th>4</th>\n",
              "      <td>5</td>\n",
              "      <td>Elavarasu</td>\n",
              "      <td>Arasu</td>\n",
              "      <td>1980</td>\n",
              "      <td>Son</td>\n",
              "      <td>42</td>\n",
              "      <td>84</td>\n",
              "      <td>retired</td>\n",
              "      <td>M</td>\n",
              "    </tr>\n",
              "  </tbody>\n",
              "</table>\n",
              "</div>\n",
              "      <button class=\"colab-df-convert\" onclick=\"convertToInteractive('df-cc9d7f52-e025-4418-9d89-5b67c53a7766')\"\n",
              "              title=\"Convert this dataframe to an interactive table.\"\n",
              "              style=\"display:none;\">\n",
              "        \n",
              "  <svg xmlns=\"http://www.w3.org/2000/svg\" height=\"24px\"viewBox=\"0 0 24 24\"\n",
              "       width=\"24px\">\n",
              "    <path d=\"M0 0h24v24H0V0z\" fill=\"none\"/>\n",
              "    <path d=\"M18.56 5.44l.94 2.06.94-2.06 2.06-.94-2.06-.94-.94-2.06-.94 2.06-2.06.94zm-11 1L8.5 8.5l.94-2.06 2.06-.94-2.06-.94L8.5 2.5l-.94 2.06-2.06.94zm10 10l.94 2.06.94-2.06 2.06-.94-2.06-.94-.94-2.06-.94 2.06-2.06.94z\"/><path d=\"M17.41 7.96l-1.37-1.37c-.4-.4-.92-.59-1.43-.59-.52 0-1.04.2-1.43.59L10.3 9.45l-7.72 7.72c-.78.78-.78 2.05 0 2.83L4 21.41c.39.39.9.59 1.41.59.51 0 1.02-.2 1.41-.59l7.78-7.78 2.81-2.81c.8-.78.8-2.07 0-2.86zM5.41 20L4 18.59l7.72-7.72 1.47 1.35L5.41 20z\"/>\n",
              "  </svg>\n",
              "      </button>\n",
              "      \n",
              "  <style>\n",
              "    .colab-df-container {\n",
              "      display:flex;\n",
              "      flex-wrap:wrap;\n",
              "      gap: 12px;\n",
              "    }\n",
              "\n",
              "    .colab-df-convert {\n",
              "      background-color: #E8F0FE;\n",
              "      border: none;\n",
              "      border-radius: 50%;\n",
              "      cursor: pointer;\n",
              "      display: none;\n",
              "      fill: #1967D2;\n",
              "      height: 32px;\n",
              "      padding: 0 0 0 0;\n",
              "      width: 32px;\n",
              "    }\n",
              "\n",
              "    .colab-df-convert:hover {\n",
              "      background-color: #E2EBFA;\n",
              "      box-shadow: 0px 1px 2px rgba(60, 64, 67, 0.3), 0px 1px 3px 1px rgba(60, 64, 67, 0.15);\n",
              "      fill: #174EA6;\n",
              "    }\n",
              "\n",
              "    [theme=dark] .colab-df-convert {\n",
              "      background-color: #3B4455;\n",
              "      fill: #D2E3FC;\n",
              "    }\n",
              "\n",
              "    [theme=dark] .colab-df-convert:hover {\n",
              "      background-color: #434B5C;\n",
              "      box-shadow: 0px 1px 3px 1px rgba(0, 0, 0, 0.15);\n",
              "      filter: drop-shadow(0px 1px 2px rgba(0, 0, 0, 0.3));\n",
              "      fill: #FFFFFF;\n",
              "    }\n",
              "  </style>\n",
              "\n",
              "      <script>\n",
              "        const buttonEl =\n",
              "          document.querySelector('#df-cc9d7f52-e025-4418-9d89-5b67c53a7766 button.colab-df-convert');\n",
              "        buttonEl.style.display =\n",
              "          google.colab.kernel.accessAllowed ? 'block' : 'none';\n",
              "\n",
              "        async function convertToInteractive(key) {\n",
              "          const element = document.querySelector('#df-cc9d7f52-e025-4418-9d89-5b67c53a7766');\n",
              "          const dataTable =\n",
              "            await google.colab.kernel.invokeFunction('convertToInteractive',\n",
              "                                                     [key], {});\n",
              "          if (!dataTable) return;\n",
              "\n",
              "          const docLinkHtml = 'Like what you see? Visit the ' +\n",
              "            '<a target=\"_blank\" href=https://colab.research.google.com/notebooks/data_table.ipynb>data table notebook</a>'\n",
              "            + ' to learn more about interactive tables.';\n",
              "          element.innerHTML = '';\n",
              "          dataTable['output_type'] = 'display_data';\n",
              "          await google.colab.output.renderOutput(dataTable, element);\n",
              "          const docLink = document.createElement('div');\n",
              "          docLink.innerHTML = docLinkHtml;\n",
              "          element.appendChild(docLink);\n",
              "        }\n",
              "      </script>\n",
              "    </div>\n",
              "  </div>\n",
              "  "
            ]
          },
          "metadata": {}
        }
      ]
    },
    {
      "cell_type": "code",
      "source": [
        "#2 Select columns with specific data types\n",
        "columns = df.select_dtypes(include=['int'])\n",
        "print(columns,'\\n')\n"
      ],
      "metadata": {
        "colab": {
          "base_uri": "https://localhost:8080/"
        },
        "id": "0Iu6QjJLEFGP",
        "outputId": "fc0435c8-3eb5-4056-d4f6-f39048d9fe4c"
      },
      "execution_count": null,
      "outputs": [
        {
          "output_type": "stream",
          "name": "stdout",
          "text": [
            "   Roll No   DOB  age  Father_age\n",
            "0        1  2001   21          42\n",
            "1        2  1974   48          96\n",
            "2        3  1999   23          46\n",
            "3        4  1974   48          96\n",
            "4        5  1980   42          84 \n",
            "\n"
          ]
        }
      ]
    },
    {
      "cell_type": "code",
      "source": [
        "#3 Slicing the dataframe\n",
        "print(df.loc[0:5,'Fathers_Name':'DOB'],'\\n')"
      ],
      "metadata": {
        "colab": {
          "base_uri": "https://localhost:8080/"
        },
        "id": "v4KQIIe_EZ3X",
        "outputId": "2b844446-fb20-42a6-e578-7c1323a5777a"
      },
      "execution_count": null,
      "outputs": [
        {
          "output_type": "stream",
          "name": "stdout",
          "text": [
            "  Fathers_Name   DOB\n",
            "0       Yogesh  2001\n",
            "1   Arulnathan  1974\n",
            "2        Sandy  1999\n",
            "3        Pondi  1974\n",
            "4        Arasu  1980 \n",
            "\n"
          ]
        }
      ]
    },
    {
      "cell_type": "code",
      "source": [
        "#4 Select specific values in the column\n",
        "print(df.iloc[1:2, 1:2],'\\n')\n"
      ],
      "metadata": {
        "colab": {
          "base_uri": "https://localhost:8080/"
        },
        "id": "dhvKFgSnEgDv",
        "outputId": "0a606f43-7d61-46b6-f8f1-c30bf461ad24"
      },
      "execution_count": null,
      "outputs": [
        {
          "output_type": "stream",
          "name": "stdout",
          "text": [
            "    Name\n",
            "1  Thiru \n",
            "\n"
          ]
        }
      ]
    },
    {
      "cell_type": "code",
      "source": [
        "\n",
        "#5 Group by Age\n",
        "print(df.groupby(['age','Status']).groups)"
      ],
      "metadata": {
        "colab": {
          "base_uri": "https://localhost:8080/"
        },
        "id": "o-v8HlYEEp-p",
        "outputId": "159327c4-5a61-4596-941b-5a27686e29d3"
      },
      "execution_count": null,
      "outputs": [
        {
          "output_type": "stream",
          "name": "stdout",
          "text": [
            "{(21, 'Son'): [0], (23, 'Son'): [2], (42, 'Son'): [4], (48, 'Son'): [1, 3]}\n"
          ]
        }
      ]
    },
    {
      "cell_type": "code",
      "source": [
        "#6 Map with dataframe \n",
        "df['MARRIED']=df['age'].map(lambda x: 'YES' if x>24 else 'NO')\n",
        "print(df['MARRIED'])"
      ],
      "metadata": {
        "colab": {
          "base_uri": "https://localhost:8080/"
        },
        "id": "m-hZQ8_GEy2x",
        "outputId": "73b5e060-718a-478a-86a5-34b9acb44218"
      },
      "execution_count": null,
      "outputs": [
        {
          "output_type": "stream",
          "name": "stdout",
          "text": [
            "0     NO\n",
            "1    YES\n",
            "2     NO\n",
            "3    YES\n",
            "4    YES\n",
            "Name: MARRIED, dtype: object\n"
          ]
        }
      ]
    },
    {
      "cell_type": "code",
      "source": [
        "#7 Rename the column name\n",
        "df.rename(columns = {'MARRIED':'MARRIED_STATUS'}, inplace = True)\n",
        "display(df)\n"
      ],
      "metadata": {
        "colab": {
          "base_uri": "https://localhost:8080/",
          "height": 81
        },
        "id": "lL-TwvAOE775",
        "outputId": "6bd39f81-8b61-4df4-c83a-28e012756773"
      },
      "execution_count": null,
      "outputs": [
        {
          "output_type": "display_data",
          "data": {
            "text/plain": [
              "          Name Fathers_Name   DOB Status  age  Father_age Father_status  \\\n",
              "0  Yogeshwaran       Yogesh  2001    Son   21          42   not retired   \n",
              "\n",
              "  gender MARRIED_STATUS  \n",
              "0      M             NO  "
            ],
            "text/html": [
              "\n",
              "  <div id=\"df-61b16c89-f512-401e-9c9c-7c95c67bd869\">\n",
              "    <div class=\"colab-df-container\">\n",
              "      <div>\n",
              "<style scoped>\n",
              "    .dataframe tbody tr th:only-of-type {\n",
              "        vertical-align: middle;\n",
              "    }\n",
              "\n",
              "    .dataframe tbody tr th {\n",
              "        vertical-align: top;\n",
              "    }\n",
              "\n",
              "    .dataframe thead th {\n",
              "        text-align: right;\n",
              "    }\n",
              "</style>\n",
              "<table border=\"1\" class=\"dataframe\">\n",
              "  <thead>\n",
              "    <tr style=\"text-align: right;\">\n",
              "      <th></th>\n",
              "      <th>Name</th>\n",
              "      <th>Fathers_Name</th>\n",
              "      <th>DOB</th>\n",
              "      <th>Status</th>\n",
              "      <th>age</th>\n",
              "      <th>Father_age</th>\n",
              "      <th>Father_status</th>\n",
              "      <th>gender</th>\n",
              "      <th>MARRIED_STATUS</th>\n",
              "    </tr>\n",
              "  </thead>\n",
              "  <tbody>\n",
              "    <tr>\n",
              "      <th>0</th>\n",
              "      <td>Yogeshwaran</td>\n",
              "      <td>Yogesh</td>\n",
              "      <td>2001</td>\n",
              "      <td>Son</td>\n",
              "      <td>21</td>\n",
              "      <td>42</td>\n",
              "      <td>not retired</td>\n",
              "      <td>M</td>\n",
              "      <td>NO</td>\n",
              "    </tr>\n",
              "  </tbody>\n",
              "</table>\n",
              "</div>\n",
              "      <button class=\"colab-df-convert\" onclick=\"convertToInteractive('df-61b16c89-f512-401e-9c9c-7c95c67bd869')\"\n",
              "              title=\"Convert this dataframe to an interactive table.\"\n",
              "              style=\"display:none;\">\n",
              "        \n",
              "  <svg xmlns=\"http://www.w3.org/2000/svg\" height=\"24px\"viewBox=\"0 0 24 24\"\n",
              "       width=\"24px\">\n",
              "    <path d=\"M0 0h24v24H0V0z\" fill=\"none\"/>\n",
              "    <path d=\"M18.56 5.44l.94 2.06.94-2.06 2.06-.94-2.06-.94-.94-2.06-.94 2.06-2.06.94zm-11 1L8.5 8.5l.94-2.06 2.06-.94-2.06-.94L8.5 2.5l-.94 2.06-2.06.94zm10 10l.94 2.06.94-2.06 2.06-.94-2.06-.94-.94-2.06-.94 2.06-2.06.94z\"/><path d=\"M17.41 7.96l-1.37-1.37c-.4-.4-.92-.59-1.43-.59-.52 0-1.04.2-1.43.59L10.3 9.45l-7.72 7.72c-.78.78-.78 2.05 0 2.83L4 21.41c.39.39.9.59 1.41.59.51 0 1.02-.2 1.41-.59l7.78-7.78 2.81-2.81c.8-.78.8-2.07 0-2.86zM5.41 20L4 18.59l7.72-7.72 1.47 1.35L5.41 20z\"/>\n",
              "  </svg>\n",
              "      </button>\n",
              "      \n",
              "  <style>\n",
              "    .colab-df-container {\n",
              "      display:flex;\n",
              "      flex-wrap:wrap;\n",
              "      gap: 12px;\n",
              "    }\n",
              "\n",
              "    .colab-df-convert {\n",
              "      background-color: #E8F0FE;\n",
              "      border: none;\n",
              "      border-radius: 50%;\n",
              "      cursor: pointer;\n",
              "      display: none;\n",
              "      fill: #1967D2;\n",
              "      height: 32px;\n",
              "      padding: 0 0 0 0;\n",
              "      width: 32px;\n",
              "    }\n",
              "\n",
              "    .colab-df-convert:hover {\n",
              "      background-color: #E2EBFA;\n",
              "      box-shadow: 0px 1px 2px rgba(60, 64, 67, 0.3), 0px 1px 3px 1px rgba(60, 64, 67, 0.15);\n",
              "      fill: #174EA6;\n",
              "    }\n",
              "\n",
              "    [theme=dark] .colab-df-convert {\n",
              "      background-color: #3B4455;\n",
              "      fill: #D2E3FC;\n",
              "    }\n",
              "\n",
              "    [theme=dark] .colab-df-convert:hover {\n",
              "      background-color: #434B5C;\n",
              "      box-shadow: 0px 1px 3px 1px rgba(0, 0, 0, 0.15);\n",
              "      filter: drop-shadow(0px 1px 2px rgba(0, 0, 0, 0.3));\n",
              "      fill: #FFFFFF;\n",
              "    }\n",
              "  </style>\n",
              "\n",
              "      <script>\n",
              "        const buttonEl =\n",
              "          document.querySelector('#df-61b16c89-f512-401e-9c9c-7c95c67bd869 button.colab-df-convert');\n",
              "        buttonEl.style.display =\n",
              "          google.colab.kernel.accessAllowed ? 'block' : 'none';\n",
              "\n",
              "        async function convertToInteractive(key) {\n",
              "          const element = document.querySelector('#df-61b16c89-f512-401e-9c9c-7c95c67bd869');\n",
              "          const dataTable =\n",
              "            await google.colab.kernel.invokeFunction('convertToInteractive',\n",
              "                                                     [key], {});\n",
              "          if (!dataTable) return;\n",
              "\n",
              "          const docLinkHtml = 'Like what you see? Visit the ' +\n",
              "            '<a target=\"_blank\" href=https://colab.research.google.com/notebooks/data_table.ipynb>data table notebook</a>'\n",
              "            + ' to learn more about interactive tables.';\n",
              "          element.innerHTML = '';\n",
              "          dataTable['output_type'] = 'display_data';\n",
              "          await google.colab.output.renderOutput(dataTable, element);\n",
              "          const docLink = document.createElement('div');\n",
              "          docLink.innerHTML = docLinkHtml;\n",
              "          element.appendChild(docLink);\n",
              "        }\n",
              "      </script>\n",
              "    </div>\n",
              "  </div>\n",
              "  "
            ]
          },
          "metadata": {}
        }
      ]
    },
    {
      "cell_type": "code",
      "source": [
        "#8 Drop columns & rows in the dataframe\n",
        "df.drop(df.index[1:3], inplace=True)\n",
        "df.drop(['DOB'], axis=1,inplace=True)\n",
        "print(df)\n",
        "display(df)"
      ],
      "metadata": {
        "colab": {
          "base_uri": "https://localhost:8080/",
          "height": 115
        },
        "id": "PGyOt7f8FP8e",
        "outputId": "b0f81356-2bce-4dad-8094-46b1e9377b38"
      },
      "execution_count": null,
      "outputs": [
        {
          "output_type": "stream",
          "name": "stdout",
          "text": [
            "  Fathers_Name Status  age  Father_age Father_status gender MARRIED_STATUS\n",
            "0       Yogesh    Son   21          42   not retired      M             NO\n"
          ]
        },
        {
          "output_type": "display_data",
          "data": {
            "text/plain": [
              "  Fathers_Name Status  age  Father_age Father_status gender MARRIED_STATUS\n",
              "0       Yogesh    Son   21          42   not retired      M             NO"
            ],
            "text/html": [
              "\n",
              "  <div id=\"df-fdc4eea2-ba01-49af-83ba-e2883415cf30\">\n",
              "    <div class=\"colab-df-container\">\n",
              "      <div>\n",
              "<style scoped>\n",
              "    .dataframe tbody tr th:only-of-type {\n",
              "        vertical-align: middle;\n",
              "    }\n",
              "\n",
              "    .dataframe tbody tr th {\n",
              "        vertical-align: top;\n",
              "    }\n",
              "\n",
              "    .dataframe thead th {\n",
              "        text-align: right;\n",
              "    }\n",
              "</style>\n",
              "<table border=\"1\" class=\"dataframe\">\n",
              "  <thead>\n",
              "    <tr style=\"text-align: right;\">\n",
              "      <th></th>\n",
              "      <th>Fathers_Name</th>\n",
              "      <th>Status</th>\n",
              "      <th>age</th>\n",
              "      <th>Father_age</th>\n",
              "      <th>Father_status</th>\n",
              "      <th>gender</th>\n",
              "      <th>MARRIED_STATUS</th>\n",
              "    </tr>\n",
              "  </thead>\n",
              "  <tbody>\n",
              "    <tr>\n",
              "      <th>0</th>\n",
              "      <td>Yogesh</td>\n",
              "      <td>Son</td>\n",
              "      <td>21</td>\n",
              "      <td>42</td>\n",
              "      <td>not retired</td>\n",
              "      <td>M</td>\n",
              "      <td>NO</td>\n",
              "    </tr>\n",
              "  </tbody>\n",
              "</table>\n",
              "</div>\n",
              "      <button class=\"colab-df-convert\" onclick=\"convertToInteractive('df-fdc4eea2-ba01-49af-83ba-e2883415cf30')\"\n",
              "              title=\"Convert this dataframe to an interactive table.\"\n",
              "              style=\"display:none;\">\n",
              "        \n",
              "  <svg xmlns=\"http://www.w3.org/2000/svg\" height=\"24px\"viewBox=\"0 0 24 24\"\n",
              "       width=\"24px\">\n",
              "    <path d=\"M0 0h24v24H0V0z\" fill=\"none\"/>\n",
              "    <path d=\"M18.56 5.44l.94 2.06.94-2.06 2.06-.94-2.06-.94-.94-2.06-.94 2.06-2.06.94zm-11 1L8.5 8.5l.94-2.06 2.06-.94-2.06-.94L8.5 2.5l-.94 2.06-2.06.94zm10 10l.94 2.06.94-2.06 2.06-.94-2.06-.94-.94-2.06-.94 2.06-2.06.94z\"/><path d=\"M17.41 7.96l-1.37-1.37c-.4-.4-.92-.59-1.43-.59-.52 0-1.04.2-1.43.59L10.3 9.45l-7.72 7.72c-.78.78-.78 2.05 0 2.83L4 21.41c.39.39.9.59 1.41.59.51 0 1.02-.2 1.41-.59l7.78-7.78 2.81-2.81c.8-.78.8-2.07 0-2.86zM5.41 20L4 18.59l7.72-7.72 1.47 1.35L5.41 20z\"/>\n",
              "  </svg>\n",
              "      </button>\n",
              "      \n",
              "  <style>\n",
              "    .colab-df-container {\n",
              "      display:flex;\n",
              "      flex-wrap:wrap;\n",
              "      gap: 12px;\n",
              "    }\n",
              "\n",
              "    .colab-df-convert {\n",
              "      background-color: #E8F0FE;\n",
              "      border: none;\n",
              "      border-radius: 50%;\n",
              "      cursor: pointer;\n",
              "      display: none;\n",
              "      fill: #1967D2;\n",
              "      height: 32px;\n",
              "      padding: 0 0 0 0;\n",
              "      width: 32px;\n",
              "    }\n",
              "\n",
              "    .colab-df-convert:hover {\n",
              "      background-color: #E2EBFA;\n",
              "      box-shadow: 0px 1px 2px rgba(60, 64, 67, 0.3), 0px 1px 3px 1px rgba(60, 64, 67, 0.15);\n",
              "      fill: #174EA6;\n",
              "    }\n",
              "\n",
              "    [theme=dark] .colab-df-convert {\n",
              "      background-color: #3B4455;\n",
              "      fill: #D2E3FC;\n",
              "    }\n",
              "\n",
              "    [theme=dark] .colab-df-convert:hover {\n",
              "      background-color: #434B5C;\n",
              "      box-shadow: 0px 1px 3px 1px rgba(0, 0, 0, 0.15);\n",
              "      filter: drop-shadow(0px 1px 2px rgba(0, 0, 0, 0.3));\n",
              "      fill: #FFFFFF;\n",
              "    }\n",
              "  </style>\n",
              "\n",
              "      <script>\n",
              "        const buttonEl =\n",
              "          document.querySelector('#df-fdc4eea2-ba01-49af-83ba-e2883415cf30 button.colab-df-convert');\n",
              "        buttonEl.style.display =\n",
              "          google.colab.kernel.accessAllowed ? 'block' : 'none';\n",
              "\n",
              "        async function convertToInteractive(key) {\n",
              "          const element = document.querySelector('#df-fdc4eea2-ba01-49af-83ba-e2883415cf30');\n",
              "          const dataTable =\n",
              "            await google.colab.kernel.invokeFunction('convertToInteractive',\n",
              "                                                     [key], {});\n",
              "          if (!dataTable) return;\n",
              "\n",
              "          const docLinkHtml = 'Like what you see? Visit the ' +\n",
              "            '<a target=\"_blank\" href=https://colab.research.google.com/notebooks/data_table.ipynb>data table notebook</a>'\n",
              "            + ' to learn more about interactive tables.';\n",
              "          element.innerHTML = '';\n",
              "          dataTable['output_type'] = 'display_data';\n",
              "          await google.colab.output.renderOutput(dataTable, element);\n",
              "          const docLink = document.createElement('div');\n",
              "          docLink.innerHTML = docLinkHtml;\n",
              "          element.appendChild(docLink);\n",
              "        }\n",
              "      </script>\n",
              "    </div>\n",
              "  </div>\n",
              "  "
            ]
          },
          "metadata": {}
        }
      ]
    },
    {
      "cell_type": "code",
      "source": [
        "#9 Write/Read as CSV file\n",
        "df.to_csv(\"df.csv\")\n",
        "df=pd.read_csv(\"/content/df.csv\")\n",
        "df\n"
      ],
      "metadata": {
        "colab": {
          "base_uri": "https://localhost:8080/",
          "height": 81
        },
        "id": "Adlj11_SGtsq",
        "outputId": "0d110ffe-c899-455f-c8b5-a63a3d4b5427"
      },
      "execution_count": null,
      "outputs": [
        {
          "output_type": "execute_result",
          "data": {
            "text/plain": [
              "   Unnamed: 0 Fathers_Name Status  age  Father_age Father_status gender  \\\n",
              "0           0       Yogesh    Son   21          42   not retired      M   \n",
              "\n",
              "  MARRIED_STATUS  \n",
              "0             NO  "
            ],
            "text/html": [
              "\n",
              "  <div id=\"df-e42797f9-42f7-4d3c-9c41-7e238645c277\">\n",
              "    <div class=\"colab-df-container\">\n",
              "      <div>\n",
              "<style scoped>\n",
              "    .dataframe tbody tr th:only-of-type {\n",
              "        vertical-align: middle;\n",
              "    }\n",
              "\n",
              "    .dataframe tbody tr th {\n",
              "        vertical-align: top;\n",
              "    }\n",
              "\n",
              "    .dataframe thead th {\n",
              "        text-align: right;\n",
              "    }\n",
              "</style>\n",
              "<table border=\"1\" class=\"dataframe\">\n",
              "  <thead>\n",
              "    <tr style=\"text-align: right;\">\n",
              "      <th></th>\n",
              "      <th>Unnamed: 0</th>\n",
              "      <th>Fathers_Name</th>\n",
              "      <th>Status</th>\n",
              "      <th>age</th>\n",
              "      <th>Father_age</th>\n",
              "      <th>Father_status</th>\n",
              "      <th>gender</th>\n",
              "      <th>MARRIED_STATUS</th>\n",
              "    </tr>\n",
              "  </thead>\n",
              "  <tbody>\n",
              "    <tr>\n",
              "      <th>0</th>\n",
              "      <td>0</td>\n",
              "      <td>Yogesh</td>\n",
              "      <td>Son</td>\n",
              "      <td>21</td>\n",
              "      <td>42</td>\n",
              "      <td>not retired</td>\n",
              "      <td>M</td>\n",
              "      <td>NO</td>\n",
              "    </tr>\n",
              "  </tbody>\n",
              "</table>\n",
              "</div>\n",
              "      <button class=\"colab-df-convert\" onclick=\"convertToInteractive('df-e42797f9-42f7-4d3c-9c41-7e238645c277')\"\n",
              "              title=\"Convert this dataframe to an interactive table.\"\n",
              "              style=\"display:none;\">\n",
              "        \n",
              "  <svg xmlns=\"http://www.w3.org/2000/svg\" height=\"24px\"viewBox=\"0 0 24 24\"\n",
              "       width=\"24px\">\n",
              "    <path d=\"M0 0h24v24H0V0z\" fill=\"none\"/>\n",
              "    <path d=\"M18.56 5.44l.94 2.06.94-2.06 2.06-.94-2.06-.94-.94-2.06-.94 2.06-2.06.94zm-11 1L8.5 8.5l.94-2.06 2.06-.94-2.06-.94L8.5 2.5l-.94 2.06-2.06.94zm10 10l.94 2.06.94-2.06 2.06-.94-2.06-.94-.94-2.06-.94 2.06-2.06.94z\"/><path d=\"M17.41 7.96l-1.37-1.37c-.4-.4-.92-.59-1.43-.59-.52 0-1.04.2-1.43.59L10.3 9.45l-7.72 7.72c-.78.78-.78 2.05 0 2.83L4 21.41c.39.39.9.59 1.41.59.51 0 1.02-.2 1.41-.59l7.78-7.78 2.81-2.81c.8-.78.8-2.07 0-2.86zM5.41 20L4 18.59l7.72-7.72 1.47 1.35L5.41 20z\"/>\n",
              "  </svg>\n",
              "      </button>\n",
              "      \n",
              "  <style>\n",
              "    .colab-df-container {\n",
              "      display:flex;\n",
              "      flex-wrap:wrap;\n",
              "      gap: 12px;\n",
              "    }\n",
              "\n",
              "    .colab-df-convert {\n",
              "      background-color: #E8F0FE;\n",
              "      border: none;\n",
              "      border-radius: 50%;\n",
              "      cursor: pointer;\n",
              "      display: none;\n",
              "      fill: #1967D2;\n",
              "      height: 32px;\n",
              "      padding: 0 0 0 0;\n",
              "      width: 32px;\n",
              "    }\n",
              "\n",
              "    .colab-df-convert:hover {\n",
              "      background-color: #E2EBFA;\n",
              "      box-shadow: 0px 1px 2px rgba(60, 64, 67, 0.3), 0px 1px 3px 1px rgba(60, 64, 67, 0.15);\n",
              "      fill: #174EA6;\n",
              "    }\n",
              "\n",
              "    [theme=dark] .colab-df-convert {\n",
              "      background-color: #3B4455;\n",
              "      fill: #D2E3FC;\n",
              "    }\n",
              "\n",
              "    [theme=dark] .colab-df-convert:hover {\n",
              "      background-color: #434B5C;\n",
              "      box-shadow: 0px 1px 3px 1px rgba(0, 0, 0, 0.15);\n",
              "      filter: drop-shadow(0px 1px 2px rgba(0, 0, 0, 0.3));\n",
              "      fill: #FFFFFF;\n",
              "    }\n",
              "  </style>\n",
              "\n",
              "      <script>\n",
              "        const buttonEl =\n",
              "          document.querySelector('#df-e42797f9-42f7-4d3c-9c41-7e238645c277 button.colab-df-convert');\n",
              "        buttonEl.style.display =\n",
              "          google.colab.kernel.accessAllowed ? 'block' : 'none';\n",
              "\n",
              "        async function convertToInteractive(key) {\n",
              "          const element = document.querySelector('#df-e42797f9-42f7-4d3c-9c41-7e238645c277');\n",
              "          const dataTable =\n",
              "            await google.colab.kernel.invokeFunction('convertToInteractive',\n",
              "                                                     [key], {});\n",
              "          if (!dataTable) return;\n",
              "\n",
              "          const docLinkHtml = 'Like what you see? Visit the ' +\n",
              "            '<a target=\"_blank\" href=https://colab.research.google.com/notebooks/data_table.ipynb>data table notebook</a>'\n",
              "            + ' to learn more about interactive tables.';\n",
              "          element.innerHTML = '';\n",
              "          dataTable['output_type'] = 'display_data';\n",
              "          await google.colab.output.renderOutput(dataTable, element);\n",
              "          const docLink = document.createElement('div');\n",
              "          docLink.innerHTML = docLinkHtml;\n",
              "          element.appendChild(docLink);\n",
              "        }\n",
              "      </script>\n",
              "    </div>\n",
              "  </div>\n",
              "  "
            ]
          },
          "metadata": {},
          "execution_count": 32
        }
      ]
    },
    {
      "cell_type": "code",
      "source": [
        "#6.Modular Programming: Scrap news from Hacker News"
      ],
      "metadata": {
        "colab": {
          "base_uri": "https://localhost:8080/",
          "height": 904
        },
        "id": "2hyN1C9B3veS",
        "outputId": "259ebdc1-321b-429b-99ef-699ae10c6ef1"
      },
      "execution_count": null,
      "outputs": [
        {
          "output_type": "stream",
          "name": "stdout",
          "text": [
            "Looking in indexes: https://pypi.org/simple, https://us-python.pkg.dev/colab-wheels/public/simple/\n",
            "Collecting pygooglenews\n",
            "  Downloading pygooglenews-0.1.2-py3-none-any.whl (10 kB)\n",
            "Collecting requests<3.0.0,>=2.24.0\n",
            "  Downloading requests-2.28.1-py3-none-any.whl (62 kB)\n",
            "\u001b[K     |████████████████████████████████| 62 kB 1.5 MB/s \n",
            "\u001b[?25hCollecting beautifulsoup4<5.0.0,>=4.9.1\n",
            "  Downloading beautifulsoup4-4.11.1-py3-none-any.whl (128 kB)\n",
            "\u001b[K     |████████████████████████████████| 128 kB 12.9 MB/s \n",
            "\u001b[?25hCollecting dateparser<0.8.0,>=0.7.6\n",
            "  Downloading dateparser-0.7.6-py2.py3-none-any.whl (362 kB)\n",
            "\u001b[K     |████████████████████████████████| 362 kB 35.9 MB/s \n",
            "\u001b[?25hCollecting feedparser<6.0.0,>=5.2.1\n",
            "  Downloading feedparser-5.2.1.zip (1.2 MB)\n",
            "\u001b[K     |████████████████████████████████| 1.2 MB 47.3 MB/s \n",
            "\u001b[?25hCollecting soupsieve>1.2\n",
            "  Downloading soupsieve-2.3.2.post1-py3-none-any.whl (37 kB)\n",
            "Requirement already satisfied: regex!=2019.02.19 in /usr/local/lib/python3.7/dist-packages (from dateparser<0.8.0,>=0.7.6->pygooglenews) (2022.6.2)\n",
            "Requirement already satisfied: pytz in /usr/local/lib/python3.7/dist-packages (from dateparser<0.8.0,>=0.7.6->pygooglenews) (2022.6)\n",
            "Requirement already satisfied: python-dateutil in /usr/local/lib/python3.7/dist-packages (from dateparser<0.8.0,>=0.7.6->pygooglenews) (2.8.2)\n",
            "Requirement already satisfied: tzlocal in /usr/local/lib/python3.7/dist-packages (from dateparser<0.8.0,>=0.7.6->pygooglenews) (1.5.1)\n",
            "Requirement already satisfied: charset-normalizer<3,>=2 in /usr/local/lib/python3.7/dist-packages (from requests<3.0.0,>=2.24.0->pygooglenews) (2.1.1)\n",
            "Requirement already satisfied: urllib3<1.27,>=1.21.1 in /usr/local/lib/python3.7/dist-packages (from requests<3.0.0,>=2.24.0->pygooglenews) (1.24.3)\n",
            "Requirement already satisfied: idna<4,>=2.5 in /usr/local/lib/python3.7/dist-packages (from requests<3.0.0,>=2.24.0->pygooglenews) (2.10)\n",
            "Requirement already satisfied: certifi>=2017.4.17 in /usr/local/lib/python3.7/dist-packages (from requests<3.0.0,>=2.24.0->pygooglenews) (2022.9.24)\n",
            "Requirement already satisfied: six>=1.5 in /usr/local/lib/python3.7/dist-packages (from python-dateutil->dateparser<0.8.0,>=0.7.6->pygooglenews) (1.15.0)\n",
            "Building wheels for collected packages: feedparser\n",
            "  Building wheel for feedparser (setup.py) ... \u001b[?25l\u001b[?25hdone\n",
            "  Created wheel for feedparser: filename=feedparser-5.2.1-py3-none-any.whl size=44952 sha256=f5cb34b9d950e88efc984a5360a176ad36738cb40e3c668c195e2053cc2d29d2\n",
            "  Stored in directory: /root/.cache/pip/wheels/29/bf/46/b4a597d435d3aee6c2fa583824897336d65abf13ebe3405b70\n",
            "Successfully built feedparser\n",
            "Installing collected packages: soupsieve, requests, feedparser, dateparser, beautifulsoup4, pygooglenews\n",
            "  Attempting uninstall: requests\n",
            "    Found existing installation: requests 2.23.0\n",
            "    Uninstalling requests-2.23.0:\n",
            "      Successfully uninstalled requests-2.23.0\n",
            "  Attempting uninstall: feedparser\n",
            "    Found existing installation: feedparser 6.0.10\n",
            "    Uninstalling feedparser-6.0.10:\n",
            "      Successfully uninstalled feedparser-6.0.10\n",
            "  Attempting uninstall: beautifulsoup4\n",
            "    Found existing installation: beautifulsoup4 4.6.3\n",
            "    Uninstalling beautifulsoup4-4.6.3:\n",
            "      Successfully uninstalled beautifulsoup4-4.6.3\n",
            "Successfully installed beautifulsoup4-4.11.1 dateparser-0.7.6 feedparser-5.2.1 pygooglenews-0.1.2 requests-2.28.1 soupsieve-2.3.2.post1\n"
          ]
        },
        {
          "output_type": "display_data",
          "data": {
            "application/vnd.colab-display-data+json": {
              "pip_warning": {
                "packages": [
                  "bs4",
                  "feedparser",
                  "requests"
                ]
              }
            }
          },
          "metadata": {}
        }
      ]
    },
    {
      "cell_type": "code",
      "source": [],
      "metadata": {
        "id": "eJCB1rHr0JA_"
      },
      "execution_count": null,
      "outputs": []
    },
    {
      "cell_type": "code",
      "source": [
        "from google.colab import files\n",
        "uploaded = files.upload()\n",
        "\n",
        "\n"
      ],
      "metadata": {
        "colab": {
          "base_uri": "https://localhost:8080/",
          "height": 73
        },
        "id": "-WZbuySI4KPo",
        "outputId": "3c31bd09-90af-4072-fdce-a864a592593d"
      },
      "execution_count": null,
      "outputs": [
        {
          "output_type": "display_data",
          "data": {
            "text/plain": [
              "<IPython.core.display.HTML object>"
            ],
            "text/html": [
              "\n",
              "     <input type=\"file\" id=\"files-74fdad54-5cce-4f9c-86e4-3165a118b9aa\" name=\"files[]\" multiple disabled\n",
              "        style=\"border:none\" />\n",
              "     <output id=\"result-74fdad54-5cce-4f9c-86e4-3165a118b9aa\">\n",
              "      Upload widget is only available when the cell has been executed in the\n",
              "      current browser session. Please rerun this cell to enable.\n",
              "      </output>\n",
              "      <script>// Copyright 2017 Google LLC\n",
              "//\n",
              "// Licensed under the Apache License, Version 2.0 (the \"License\");\n",
              "// you may not use this file except in compliance with the License.\n",
              "// You may obtain a copy of the License at\n",
              "//\n",
              "//      http://www.apache.org/licenses/LICENSE-2.0\n",
              "//\n",
              "// Unless required by applicable law or agreed to in writing, software\n",
              "// distributed under the License is distributed on an \"AS IS\" BASIS,\n",
              "// WITHOUT WARRANTIES OR CONDITIONS OF ANY KIND, either express or implied.\n",
              "// See the License for the specific language governing permissions and\n",
              "// limitations under the License.\n",
              "\n",
              "/**\n",
              " * @fileoverview Helpers for google.colab Python module.\n",
              " */\n",
              "(function(scope) {\n",
              "function span(text, styleAttributes = {}) {\n",
              "  const element = document.createElement('span');\n",
              "  element.textContent = text;\n",
              "  for (const key of Object.keys(styleAttributes)) {\n",
              "    element.style[key] = styleAttributes[key];\n",
              "  }\n",
              "  return element;\n",
              "}\n",
              "\n",
              "// Max number of bytes which will be uploaded at a time.\n",
              "const MAX_PAYLOAD_SIZE = 100 * 1024;\n",
              "\n",
              "function _uploadFiles(inputId, outputId) {\n",
              "  const steps = uploadFilesStep(inputId, outputId);\n",
              "  const outputElement = document.getElementById(outputId);\n",
              "  // Cache steps on the outputElement to make it available for the next call\n",
              "  // to uploadFilesContinue from Python.\n",
              "  outputElement.steps = steps;\n",
              "\n",
              "  return _uploadFilesContinue(outputId);\n",
              "}\n",
              "\n",
              "// This is roughly an async generator (not supported in the browser yet),\n",
              "// where there are multiple asynchronous steps and the Python side is going\n",
              "// to poll for completion of each step.\n",
              "// This uses a Promise to block the python side on completion of each step,\n",
              "// then passes the result of the previous step as the input to the next step.\n",
              "function _uploadFilesContinue(outputId) {\n",
              "  const outputElement = document.getElementById(outputId);\n",
              "  const steps = outputElement.steps;\n",
              "\n",
              "  const next = steps.next(outputElement.lastPromiseValue);\n",
              "  return Promise.resolve(next.value.promise).then((value) => {\n",
              "    // Cache the last promise value to make it available to the next\n",
              "    // step of the generator.\n",
              "    outputElement.lastPromiseValue = value;\n",
              "    return next.value.response;\n",
              "  });\n",
              "}\n",
              "\n",
              "/**\n",
              " * Generator function which is called between each async step of the upload\n",
              " * process.\n",
              " * @param {string} inputId Element ID of the input file picker element.\n",
              " * @param {string} outputId Element ID of the output display.\n",
              " * @return {!Iterable<!Object>} Iterable of next steps.\n",
              " */\n",
              "function* uploadFilesStep(inputId, outputId) {\n",
              "  const inputElement = document.getElementById(inputId);\n",
              "  inputElement.disabled = false;\n",
              "\n",
              "  const outputElement = document.getElementById(outputId);\n",
              "  outputElement.innerHTML = '';\n",
              "\n",
              "  const pickedPromise = new Promise((resolve) => {\n",
              "    inputElement.addEventListener('change', (e) => {\n",
              "      resolve(e.target.files);\n",
              "    });\n",
              "  });\n",
              "\n",
              "  const cancel = document.createElement('button');\n",
              "  inputElement.parentElement.appendChild(cancel);\n",
              "  cancel.textContent = 'Cancel upload';\n",
              "  const cancelPromise = new Promise((resolve) => {\n",
              "    cancel.onclick = () => {\n",
              "      resolve(null);\n",
              "    };\n",
              "  });\n",
              "\n",
              "  // Wait for the user to pick the files.\n",
              "  const files = yield {\n",
              "    promise: Promise.race([pickedPromise, cancelPromise]),\n",
              "    response: {\n",
              "      action: 'starting',\n",
              "    }\n",
              "  };\n",
              "\n",
              "  cancel.remove();\n",
              "\n",
              "  // Disable the input element since further picks are not allowed.\n",
              "  inputElement.disabled = true;\n",
              "\n",
              "  if (!files) {\n",
              "    return {\n",
              "      response: {\n",
              "        action: 'complete',\n",
              "      }\n",
              "    };\n",
              "  }\n",
              "\n",
              "  for (const file of files) {\n",
              "    const li = document.createElement('li');\n",
              "    li.append(span(file.name, {fontWeight: 'bold'}));\n",
              "    li.append(span(\n",
              "        `(${file.type || 'n/a'}) - ${file.size} bytes, ` +\n",
              "        `last modified: ${\n",
              "            file.lastModifiedDate ? file.lastModifiedDate.toLocaleDateString() :\n",
              "                                    'n/a'} - `));\n",
              "    const percent = span('0% done');\n",
              "    li.appendChild(percent);\n",
              "\n",
              "    outputElement.appendChild(li);\n",
              "\n",
              "    const fileDataPromise = new Promise((resolve) => {\n",
              "      const reader = new FileReader();\n",
              "      reader.onload = (e) => {\n",
              "        resolve(e.target.result);\n",
              "      };\n",
              "      reader.readAsArrayBuffer(file);\n",
              "    });\n",
              "    // Wait for the data to be ready.\n",
              "    let fileData = yield {\n",
              "      promise: fileDataPromise,\n",
              "      response: {\n",
              "        action: 'continue',\n",
              "      }\n",
              "    };\n",
              "\n",
              "    // Use a chunked sending to avoid message size limits. See b/62115660.\n",
              "    let position = 0;\n",
              "    do {\n",
              "      const length = Math.min(fileData.byteLength - position, MAX_PAYLOAD_SIZE);\n",
              "      const chunk = new Uint8Array(fileData, position, length);\n",
              "      position += length;\n",
              "\n",
              "      const base64 = btoa(String.fromCharCode.apply(null, chunk));\n",
              "      yield {\n",
              "        response: {\n",
              "          action: 'append',\n",
              "          file: file.name,\n",
              "          data: base64,\n",
              "        },\n",
              "      };\n",
              "\n",
              "      let percentDone = fileData.byteLength === 0 ?\n",
              "          100 :\n",
              "          Math.round((position / fileData.byteLength) * 100);\n",
              "      percent.textContent = `${percentDone}% done`;\n",
              "\n",
              "    } while (position < fileData.byteLength);\n",
              "  }\n",
              "\n",
              "  // All done.\n",
              "  yield {\n",
              "    response: {\n",
              "      action: 'complete',\n",
              "    }\n",
              "  };\n",
              "}\n",
              "\n",
              "scope.google = scope.google || {};\n",
              "scope.google.colab = scope.google.colab || {};\n",
              "scope.google.colab._files = {\n",
              "  _uploadFiles,\n",
              "  _uploadFilesContinue,\n",
              "};\n",
              "})(self);\n",
              "</script> "
            ]
          },
          "metadata": {}
        },
        {
          "output_type": "stream",
          "name": "stdout",
          "text": [
            "Saving news.py to news.py\n"
          ]
        }
      ]
    },
    {
      "cell_type": "code",
      "source": [
        "import news as n\n",
        "df1=n.scrap_news(\"hacker news\")\n",
        "display(df1)"
      ],
      "metadata": {
        "colab": {
          "base_uri": "https://localhost:8080/",
          "height": 1000
        },
        "id": "U2Ibvj6O7vmx",
        "outputId": "ea1c77a1-3537-4948-f16a-6f30b05614f4"
      },
      "execution_count": null,
      "outputs": [
        {
          "output_type": "stream",
          "name": "stdout",
          "text": [
            "                                                 link  \\\n",
            "0   https://news.google.com/__i/rss/rd/articles/CB...   \n",
            "1   https://news.google.com/__i/rss/rd/articles/CB...   \n",
            "2   https://news.google.com/__i/rss/rd/articles/CB...   \n",
            "3   https://news.google.com/__i/rss/rd/articles/CB...   \n",
            "4   https://news.google.com/__i/rss/rd/articles/CB...   \n",
            "..                                                ...   \n",
            "95  https://news.google.com/__i/rss/rd/articles/CB...   \n",
            "96  https://news.google.com/__i/rss/rd/articles/CB...   \n",
            "97  https://news.google.com/__i/rss/rd/articles/CB...   \n",
            "98  https://news.google.com/__i/rss/rd/articles/CB...   \n",
            "99  https://news.google.com/__i/rss/rd/articles/CB...   \n",
            "\n",
            "                                                title  \\\n",
            "0   Hacker Rewarded $70,000 for Finding Way to Byp...   \n",
            "1   Several Cyber Attacks Observed Leveraging IPFS...   \n",
            "2   APT29 Exploited a Windows Feature to Compromis...   \n",
            "3   Install Latest Windows Update ASAP! Patches Is...   \n",
            "4   Microsoft Warns of Uptick in Hackers Leveragin...   \n",
            "..                                                ...   \n",
            "95  New Study Finds Most Enterprise Vendors Failin...   \n",
            "96  New ToddyCat Hacker Group on Experts' Radar Af...   \n",
            "97  Budworm Hackers Resurface with New Espionage A...   \n",
            "98  The Age of Collaborative Security: What Tens o...   \n",
            "99  Google Blocks Dozens of Malicious Domains Oper...   \n",
            "\n",
            "                        published  \n",
            "0   Thu, 10 Nov 2022 15:07:00 GMT  \n",
            "1   Wed, 09 Nov 2022 13:06:00 GMT  \n",
            "2   Wed, 09 Nov 2022 13:47:00 GMT  \n",
            "3   Wed, 09 Nov 2022 05:16:00 GMT  \n",
            "4   Sat, 05 Nov 2022 06:00:00 GMT  \n",
            "..                            ...  \n",
            "95  Mon, 18 Jul 2022 07:00:00 GMT  \n",
            "96  Tue, 21 Jun 2022 07:00:00 GMT  \n",
            "97  Thu, 13 Oct 2022 07:00:00 GMT  \n",
            "98  Thu, 07 Jul 2022 07:00:00 GMT  \n",
            "99  Thu, 30 Jun 2022 07:00:00 GMT  \n",
            "\n",
            "[100 rows x 3 columns]\n"
          ]
        },
        {
          "output_type": "display_data",
          "data": {
            "text/plain": [
              "                                                 link  \\\n",
              "0   https://news.google.com/__i/rss/rd/articles/CB...   \n",
              "1   https://news.google.com/__i/rss/rd/articles/CB...   \n",
              "2   https://news.google.com/__i/rss/rd/articles/CB...   \n",
              "3   https://news.google.com/__i/rss/rd/articles/CB...   \n",
              "4   https://news.google.com/__i/rss/rd/articles/CB...   \n",
              "..                                                ...   \n",
              "95  https://news.google.com/__i/rss/rd/articles/CB...   \n",
              "96  https://news.google.com/__i/rss/rd/articles/CB...   \n",
              "97  https://news.google.com/__i/rss/rd/articles/CB...   \n",
              "98  https://news.google.com/__i/rss/rd/articles/CB...   \n",
              "99  https://news.google.com/__i/rss/rd/articles/CB...   \n",
              "\n",
              "                                                title  \\\n",
              "0   Hacker Rewarded $70,000 for Finding Way to Byp...   \n",
              "1   Several Cyber Attacks Observed Leveraging IPFS...   \n",
              "2   APT29 Exploited a Windows Feature to Compromis...   \n",
              "3   Install Latest Windows Update ASAP! Patches Is...   \n",
              "4   Microsoft Warns of Uptick in Hackers Leveragin...   \n",
              "..                                                ...   \n",
              "95  New Study Finds Most Enterprise Vendors Failin...   \n",
              "96  New ToddyCat Hacker Group on Experts' Radar Af...   \n",
              "97  Budworm Hackers Resurface with New Espionage A...   \n",
              "98  The Age of Collaborative Security: What Tens o...   \n",
              "99  Google Blocks Dozens of Malicious Domains Oper...   \n",
              "\n",
              "                        published  \n",
              "0   Thu, 10 Nov 2022 15:07:00 GMT  \n",
              "1   Wed, 09 Nov 2022 13:06:00 GMT  \n",
              "2   Wed, 09 Nov 2022 13:47:00 GMT  \n",
              "3   Wed, 09 Nov 2022 05:16:00 GMT  \n",
              "4   Sat, 05 Nov 2022 06:00:00 GMT  \n",
              "..                            ...  \n",
              "95  Mon, 18 Jul 2022 07:00:00 GMT  \n",
              "96  Tue, 21 Jun 2022 07:00:00 GMT  \n",
              "97  Thu, 13 Oct 2022 07:00:00 GMT  \n",
              "98  Thu, 07 Jul 2022 07:00:00 GMT  \n",
              "99  Thu, 30 Jun 2022 07:00:00 GMT  \n",
              "\n",
              "[100 rows x 3 columns]"
            ],
            "text/html": [
              "\n",
              "  <div id=\"df-d84949ec-3b0e-45ed-a07b-23cc49d90e44\">\n",
              "    <div class=\"colab-df-container\">\n",
              "      <div>\n",
              "<style scoped>\n",
              "    .dataframe tbody tr th:only-of-type {\n",
              "        vertical-align: middle;\n",
              "    }\n",
              "\n",
              "    .dataframe tbody tr th {\n",
              "        vertical-align: top;\n",
              "    }\n",
              "\n",
              "    .dataframe thead th {\n",
              "        text-align: right;\n",
              "    }\n",
              "</style>\n",
              "<table border=\"1\" class=\"dataframe\">\n",
              "  <thead>\n",
              "    <tr style=\"text-align: right;\">\n",
              "      <th></th>\n",
              "      <th>link</th>\n",
              "      <th>title</th>\n",
              "      <th>published</th>\n",
              "    </tr>\n",
              "  </thead>\n",
              "  <tbody>\n",
              "    <tr>\n",
              "      <th>0</th>\n",
              "      <td>https://news.google.com/__i/rss/rd/articles/CB...</td>\n",
              "      <td>Hacker Rewarded $70,000 for Finding Way to Byp...</td>\n",
              "      <td>Thu, 10 Nov 2022 15:07:00 GMT</td>\n",
              "    </tr>\n",
              "    <tr>\n",
              "      <th>1</th>\n",
              "      <td>https://news.google.com/__i/rss/rd/articles/CB...</td>\n",
              "      <td>Several Cyber Attacks Observed Leveraging IPFS...</td>\n",
              "      <td>Wed, 09 Nov 2022 13:06:00 GMT</td>\n",
              "    </tr>\n",
              "    <tr>\n",
              "      <th>2</th>\n",
              "      <td>https://news.google.com/__i/rss/rd/articles/CB...</td>\n",
              "      <td>APT29 Exploited a Windows Feature to Compromis...</td>\n",
              "      <td>Wed, 09 Nov 2022 13:47:00 GMT</td>\n",
              "    </tr>\n",
              "    <tr>\n",
              "      <th>3</th>\n",
              "      <td>https://news.google.com/__i/rss/rd/articles/CB...</td>\n",
              "      <td>Install Latest Windows Update ASAP! Patches Is...</td>\n",
              "      <td>Wed, 09 Nov 2022 05:16:00 GMT</td>\n",
              "    </tr>\n",
              "    <tr>\n",
              "      <th>4</th>\n",
              "      <td>https://news.google.com/__i/rss/rd/articles/CB...</td>\n",
              "      <td>Microsoft Warns of Uptick in Hackers Leveragin...</td>\n",
              "      <td>Sat, 05 Nov 2022 06:00:00 GMT</td>\n",
              "    </tr>\n",
              "    <tr>\n",
              "      <th>...</th>\n",
              "      <td>...</td>\n",
              "      <td>...</td>\n",
              "      <td>...</td>\n",
              "    </tr>\n",
              "    <tr>\n",
              "      <th>95</th>\n",
              "      <td>https://news.google.com/__i/rss/rd/articles/CB...</td>\n",
              "      <td>New Study Finds Most Enterprise Vendors Failin...</td>\n",
              "      <td>Mon, 18 Jul 2022 07:00:00 GMT</td>\n",
              "    </tr>\n",
              "    <tr>\n",
              "      <th>96</th>\n",
              "      <td>https://news.google.com/__i/rss/rd/articles/CB...</td>\n",
              "      <td>New ToddyCat Hacker Group on Experts' Radar Af...</td>\n",
              "      <td>Tue, 21 Jun 2022 07:00:00 GMT</td>\n",
              "    </tr>\n",
              "    <tr>\n",
              "      <th>97</th>\n",
              "      <td>https://news.google.com/__i/rss/rd/articles/CB...</td>\n",
              "      <td>Budworm Hackers Resurface with New Espionage A...</td>\n",
              "      <td>Thu, 13 Oct 2022 07:00:00 GMT</td>\n",
              "    </tr>\n",
              "    <tr>\n",
              "      <th>98</th>\n",
              "      <td>https://news.google.com/__i/rss/rd/articles/CB...</td>\n",
              "      <td>The Age of Collaborative Security: What Tens o...</td>\n",
              "      <td>Thu, 07 Jul 2022 07:00:00 GMT</td>\n",
              "    </tr>\n",
              "    <tr>\n",
              "      <th>99</th>\n",
              "      <td>https://news.google.com/__i/rss/rd/articles/CB...</td>\n",
              "      <td>Google Blocks Dozens of Malicious Domains Oper...</td>\n",
              "      <td>Thu, 30 Jun 2022 07:00:00 GMT</td>\n",
              "    </tr>\n",
              "  </tbody>\n",
              "</table>\n",
              "<p>100 rows × 3 columns</p>\n",
              "</div>\n",
              "      <button class=\"colab-df-convert\" onclick=\"convertToInteractive('df-d84949ec-3b0e-45ed-a07b-23cc49d90e44')\"\n",
              "              title=\"Convert this dataframe to an interactive table.\"\n",
              "              style=\"display:none;\">\n",
              "        \n",
              "  <svg xmlns=\"http://www.w3.org/2000/svg\" height=\"24px\"viewBox=\"0 0 24 24\"\n",
              "       width=\"24px\">\n",
              "    <path d=\"M0 0h24v24H0V0z\" fill=\"none\"/>\n",
              "    <path d=\"M18.56 5.44l.94 2.06.94-2.06 2.06-.94-2.06-.94-.94-2.06-.94 2.06-2.06.94zm-11 1L8.5 8.5l.94-2.06 2.06-.94-2.06-.94L8.5 2.5l-.94 2.06-2.06.94zm10 10l.94 2.06.94-2.06 2.06-.94-2.06-.94-.94-2.06-.94 2.06-2.06.94z\"/><path d=\"M17.41 7.96l-1.37-1.37c-.4-.4-.92-.59-1.43-.59-.52 0-1.04.2-1.43.59L10.3 9.45l-7.72 7.72c-.78.78-.78 2.05 0 2.83L4 21.41c.39.39.9.59 1.41.59.51 0 1.02-.2 1.41-.59l7.78-7.78 2.81-2.81c.8-.78.8-2.07 0-2.86zM5.41 20L4 18.59l7.72-7.72 1.47 1.35L5.41 20z\"/>\n",
              "  </svg>\n",
              "      </button>\n",
              "      \n",
              "  <style>\n",
              "    .colab-df-container {\n",
              "      display:flex;\n",
              "      flex-wrap:wrap;\n",
              "      gap: 12px;\n",
              "    }\n",
              "\n",
              "    .colab-df-convert {\n",
              "      background-color: #E8F0FE;\n",
              "      border: none;\n",
              "      border-radius: 50%;\n",
              "      cursor: pointer;\n",
              "      display: none;\n",
              "      fill: #1967D2;\n",
              "      height: 32px;\n",
              "      padding: 0 0 0 0;\n",
              "      width: 32px;\n",
              "    }\n",
              "\n",
              "    .colab-df-convert:hover {\n",
              "      background-color: #E2EBFA;\n",
              "      box-shadow: 0px 1px 2px rgba(60, 64, 67, 0.3), 0px 1px 3px 1px rgba(60, 64, 67, 0.15);\n",
              "      fill: #174EA6;\n",
              "    }\n",
              "\n",
              "    [theme=dark] .colab-df-convert {\n",
              "      background-color: #3B4455;\n",
              "      fill: #D2E3FC;\n",
              "    }\n",
              "\n",
              "    [theme=dark] .colab-df-convert:hover {\n",
              "      background-color: #434B5C;\n",
              "      box-shadow: 0px 1px 3px 1px rgba(0, 0, 0, 0.15);\n",
              "      filter: drop-shadow(0px 1px 2px rgba(0, 0, 0, 0.3));\n",
              "      fill: #FFFFFF;\n",
              "    }\n",
              "  </style>\n",
              "\n",
              "      <script>\n",
              "        const buttonEl =\n",
              "          document.querySelector('#df-d84949ec-3b0e-45ed-a07b-23cc49d90e44 button.colab-df-convert');\n",
              "        buttonEl.style.display =\n",
              "          google.colab.kernel.accessAllowed ? 'block' : 'none';\n",
              "\n",
              "        async function convertToInteractive(key) {\n",
              "          const element = document.querySelector('#df-d84949ec-3b0e-45ed-a07b-23cc49d90e44');\n",
              "          const dataTable =\n",
              "            await google.colab.kernel.invokeFunction('convertToInteractive',\n",
              "                                                     [key], {});\n",
              "          if (!dataTable) return;\n",
              "\n",
              "          const docLinkHtml = 'Like what you see? Visit the ' +\n",
              "            '<a target=\"_blank\" href=https://colab.research.google.com/notebooks/data_table.ipynb>data table notebook</a>'\n",
              "            + ' to learn more about interactive tables.';\n",
              "          element.innerHTML = '';\n",
              "          dataTable['output_type'] = 'display_data';\n",
              "          await google.colab.output.renderOutput(dataTable, element);\n",
              "          const docLink = document.createElement('div');\n",
              "          docLink.innerHTML = docLinkHtml;\n",
              "          element.appendChild(docLink);\n",
              "        }\n",
              "      </script>\n",
              "    </div>\n",
              "  </div>\n",
              "  "
            ]
          },
          "metadata": {}
        }
      ]
    },
    {
      "cell_type": "code",
      "source": [
        "\n",
        "import matplotlib.pyplot as plt\n",
        "from wordcloud import WordCloud, STOPWORDS\n",
        "wordcloud = WordCloud(background_color=\"grey\",width=1600, height=800).generate(''.join(df1['title'].tolist()))\n",
        "plt.figure( figsize=(12,10), facecolor='k')\n",
        "plt.imshow(wordcloud)\n"
      ],
      "metadata": {
        "colab": {
          "base_uri": "https://localhost:8080/",
          "height": 403
        },
        "id": "KvXTQXh08F8J",
        "outputId": "cb1e7fef-d307-4fdf-89b6-7251eff91558"
      },
      "execution_count": null,
      "outputs": [
        {
          "output_type": "execute_result",
          "data": {
            "text/plain": [
              "<matplotlib.image.AxesImage at 0x7f99c0256a90>"
            ]
          },
          "metadata": {},
          "execution_count": 40
        },
        {
          "output_type": "display_data",
          "data": {
            "text/plain": [
              "<Figure size 864x720 with 1 Axes>"
            ],
            "image/png": "[encoded data removed]"
          },
          "metadata": {}
        }
      ]
    },
    {
      "cell_type": "code",
      "source": [
        "#7 Banner Grabbing Scapy\n",
        "! pip install Scapy"
      ],
      "metadata": {
        "id": "ywMqw0eO0Qho",
        "colab": {
          "base_uri": "https://localhost:8080/"
        },
        "outputId": "c0d58127-a27e-4809-d152-529bc0bbb877"
      },
      "execution_count": null,
      "outputs": [
        {
          "output_type": "stream",
          "name": "stdout",
          "text": [
            "Looking in indexes: https://pypi.org/simple, https://us-python.pkg.dev/colab-wheels/public/simple/\n",
            "Collecting Scapy\n",
            "  Downloading scapy-2.4.5.tar.gz (1.1 MB)\n",
            "\u001b[K     |████████████████████████████████| 1.1 MB 9.7 MB/s \n",
            "\u001b[?25hBuilding wheels for collected packages: Scapy\n",
            "  Building wheel for Scapy (setup.py) ... \u001b[?25l\u001b[?25hdone\n",
            "  Created wheel for Scapy: filename=scapy-2.4.5-py2.py3-none-any.whl size=1261555 sha256=9c29248541d92b58bd32f03c4b5f46bd4d104afa598868ede6229410e8365722\n",
            "  Stored in directory: /root/.cache/pip/wheels/b9/6e/c0/0157e466a5e02d3ff28fc7587dff329b4a967a23b3f9b11385\n",
            "Successfully built Scapy\n",
            "Installing collected packages: Scapy\n",
            "Successfully installed Scapy-2.4.5\n"
          ]
        }
      ]
    },
    {
      "cell_type": "code",
      "source": [
        "import socket\n",
        "import requests\n",
        "from scapy.all import sniff\n",
        "#getting ip of domain\n",
        "hostname = input(\"Enter the website url (full)\")\n",
        "ip= socket.gethostbyname(hostname)\n",
        "print(hostname,\"\\n\",ip)\n",
        "#Banner grabbing\n",
        "def banner(ip, port):\n",
        "    s = socket.socket()\n",
        "    s.connect((ip, int(port)))\n",
        "    print(s.recv(1024))\n",
        "port = str(input(\"Please enter the port: \"))\n",
        "banner(ip, port)\n",
        "print(hostname)\n",
        "#check if vulnerable\n",
        "domain = \"https://www.\"+hostname\n",
        "headers= requests.get(domain).headers\n",
        "\n",
        "if 'X-Frame-Options' in headers:\n",
        "    print(domain,\" non - vulnerable\")\n",
        "else:\n",
        "    print(domain, \" vulnerable\")\n"
      ],
      "metadata": {
        "colab": {
          "base_uri": "https://localhost:8080/"
        },
        "id": "8heaDHgW-hYK",
        "outputId": "e2357e83-f8c4-490e-a01e-e767640d1e31"
      },
      "execution_count": null,
      "outputs": [
        {
          "output_type": "stream",
          "name": "stdout",
          "text": [
            "Enter the website url (full)nasglo.com\n",
            "nasglo.com \n",
            " 66.235.200.112\n",
            "Please enter the port: 80\n",
            "b''\n",
            "nasglo.com\n",
            "https://www.nasglo.com  vulnerable\n"
          ]
        }
      ]
    },
    {
      "cell_type": "code",
      "source": [
        "#Ex 8 Design a Keylogger\n",
        "from pynput.keyboard import Key, Listener\n",
        "def on_press(key):\n",
        "    print('{0} pressed'.format(key))\n",
        "def on_release(key):\n",
        "    if key == Key.esc:\n",
        "        return False\n",
        "# Collect events until released\n",
        "with Listener(on_press=on_press,on_release=on_release) as listener:\n",
        "  listener.join()"
      ],
      "metadata": {
        "id": "5hTuvkr4_P4s"
      },
      "execution_count": null,
      "outputs": []
    }
  ]
}